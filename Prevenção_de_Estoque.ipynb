{
  "cells": [
    {
      "cell_type": "markdown",
      "metadata": {
        "id": "view-in-github",
        "colab_type": "text"
      },
      "source": [
        "<a href=\"https://colab.research.google.com/github/RochaMansueto/RochaMansueto/blob/main/Preven%C3%A7%C3%A3o_de_Estoque.ipynb\" target=\"_parent\"><img src=\"https://colab.research.google.com/assets/colab-badge.svg\" alt=\"Open In Colab\"/></a>"
      ]
    },
    {
      "cell_type": "markdown",
      "source": [
        "## bibliotecas"
      ],
      "metadata": {
        "id": "96iPJzjHnqWm"
      }
    },
    {
      "cell_type": "code",
      "execution_count": null,
      "metadata": {
        "id": "D6GOhOcqJpnd"
      },
      "outputs": [],
      "source": [
        "import numpy as np\n",
        "import pandas as pd \n",
        "import matplotlib.pyplot as plt\n",
        "import seaborn as sns\n",
        "import sqlite3"
      ]
    },
    {
      "cell_type": "markdown",
      "metadata": {
        "id": "ncTiuPQWRZ9L"
      },
      "source": [
        "## Carregamento dos dados"
      ]
    },
    {
      "cell_type": "code",
      "execution_count": null,
      "metadata": {
        "id": "yKltdY1tLsn0"
      },
      "outputs": [],
      "source": [
        "con = sqlite3.connect('trabalhotera.db')\n",
        "df_base = pd.read_sql('SELECT * FROM base;', con)\n",
        "con.close()"
      ]
    },
    {
      "cell_type": "markdown",
      "source": [
        "## Análise Exploratória"
      ],
      "metadata": {
        "id": "VUkxHj4snVK3"
      }
    },
    {
      "cell_type": "code",
      "source": [
        "df_base.rename(str.lower, axis=1,inplace=True)"
      ],
      "metadata": {
        "id": "J0hK6BkhK-JW"
      },
      "execution_count": null,
      "outputs": []
    },
    {
      "cell_type": "code",
      "execution_count": null,
      "metadata": {
        "scrolled": true,
        "id": "XGu9fA7ez8GJ",
        "outputId": "7a3e5675-d419-40ad-8388-2edae4fce589",
        "colab": {
          "base_uri": "https://localhost:8080/",
          "height": 257
        }
      },
      "outputs": [
        {
          "output_type": "execute_result",
          "data": {
            "text/plain": [
              "                  data  oe / viagem  cod. produto                    produto  \\\n",
              "0  2022-02-01 00:00:00      3701970          6220  LOMBO CANADENSE S GOURMET   \n",
              "1  2022-02-01 00:00:00      3701970          9288     LINGUICA TOSCANA SEARA   \n",
              "2  2022-02-01 00:00:00      3701970         27150   SELETA MISTA CONG 1,05KG   \n",
              "\n",
              "  tipo do produto               conferente       auditor  cx       kg  \\\n",
              "0        VARIÁVEL  ADRIANO DA SILVA SANTOS  NÃO AUDITADO  51  322.312   \n",
              "1            FIXO  ADRIANO DA SILVA SANTOS  NÃO AUDITADO  22  440.000   \n",
              "2            FIXO  ADRIANO DA SILVA SANTOS  NÃO AUDITADO  72  756.000   \n",
              "\n",
              "       anomalia  cx divergentes  kg divergente  r$ anomalia  \n",
              "0  NÃO AUDITADO               0            0.0          0.0  \n",
              "1  NÃO AUDITADO               0            0.0          0.0  \n",
              "2  NÃO AUDITADO               0            0.0          0.0  "
            ],
            "text/html": [
              "\n",
              "  <div id=\"df-45f2a1da-f68d-45e0-ba2c-0f791dd57a65\">\n",
              "    <div class=\"colab-df-container\">\n",
              "      <div>\n",
              "<style scoped>\n",
              "    .dataframe tbody tr th:only-of-type {\n",
              "        vertical-align: middle;\n",
              "    }\n",
              "\n",
              "    .dataframe tbody tr th {\n",
              "        vertical-align: top;\n",
              "    }\n",
              "\n",
              "    .dataframe thead th {\n",
              "        text-align: right;\n",
              "    }\n",
              "</style>\n",
              "<table border=\"1\" class=\"dataframe\">\n",
              "  <thead>\n",
              "    <tr style=\"text-align: right;\">\n",
              "      <th></th>\n",
              "      <th>data</th>\n",
              "      <th>oe / viagem</th>\n",
              "      <th>cod. produto</th>\n",
              "      <th>produto</th>\n",
              "      <th>tipo do produto</th>\n",
              "      <th>conferente</th>\n",
              "      <th>auditor</th>\n",
              "      <th>cx</th>\n",
              "      <th>kg</th>\n",
              "      <th>anomalia</th>\n",
              "      <th>cx divergentes</th>\n",
              "      <th>kg divergente</th>\n",
              "      <th>r$ anomalia</th>\n",
              "    </tr>\n",
              "  </thead>\n",
              "  <tbody>\n",
              "    <tr>\n",
              "      <th>0</th>\n",
              "      <td>2022-02-01 00:00:00</td>\n",
              "      <td>3701970</td>\n",
              "      <td>6220</td>\n",
              "      <td>LOMBO CANADENSE S GOURMET</td>\n",
              "      <td>VARIÁVEL</td>\n",
              "      <td>ADRIANO DA SILVA SANTOS</td>\n",
              "      <td>NÃO AUDITADO</td>\n",
              "      <td>51</td>\n",
              "      <td>322.312</td>\n",
              "      <td>NÃO AUDITADO</td>\n",
              "      <td>0</td>\n",
              "      <td>0.0</td>\n",
              "      <td>0.0</td>\n",
              "    </tr>\n",
              "    <tr>\n",
              "      <th>1</th>\n",
              "      <td>2022-02-01 00:00:00</td>\n",
              "      <td>3701970</td>\n",
              "      <td>9288</td>\n",
              "      <td>LINGUICA TOSCANA SEARA</td>\n",
              "      <td>FIXO</td>\n",
              "      <td>ADRIANO DA SILVA SANTOS</td>\n",
              "      <td>NÃO AUDITADO</td>\n",
              "      <td>22</td>\n",
              "      <td>440.000</td>\n",
              "      <td>NÃO AUDITADO</td>\n",
              "      <td>0</td>\n",
              "      <td>0.0</td>\n",
              "      <td>0.0</td>\n",
              "    </tr>\n",
              "    <tr>\n",
              "      <th>2</th>\n",
              "      <td>2022-02-01 00:00:00</td>\n",
              "      <td>3701970</td>\n",
              "      <td>27150</td>\n",
              "      <td>SELETA MISTA CONG 1,05KG</td>\n",
              "      <td>FIXO</td>\n",
              "      <td>ADRIANO DA SILVA SANTOS</td>\n",
              "      <td>NÃO AUDITADO</td>\n",
              "      <td>72</td>\n",
              "      <td>756.000</td>\n",
              "      <td>NÃO AUDITADO</td>\n",
              "      <td>0</td>\n",
              "      <td>0.0</td>\n",
              "      <td>0.0</td>\n",
              "    </tr>\n",
              "  </tbody>\n",
              "</table>\n",
              "</div>\n",
              "      <button class=\"colab-df-convert\" onclick=\"convertToInteractive('df-45f2a1da-f68d-45e0-ba2c-0f791dd57a65')\"\n",
              "              title=\"Convert this dataframe to an interactive table.\"\n",
              "              style=\"display:none;\">\n",
              "        \n",
              "  <svg xmlns=\"http://www.w3.org/2000/svg\" height=\"24px\"viewBox=\"0 0 24 24\"\n",
              "       width=\"24px\">\n",
              "    <path d=\"M0 0h24v24H0V0z\" fill=\"none\"/>\n",
              "    <path d=\"M18.56 5.44l.94 2.06.94-2.06 2.06-.94-2.06-.94-.94-2.06-.94 2.06-2.06.94zm-11 1L8.5 8.5l.94-2.06 2.06-.94-2.06-.94L8.5 2.5l-.94 2.06-2.06.94zm10 10l.94 2.06.94-2.06 2.06-.94-2.06-.94-.94-2.06-.94 2.06-2.06.94z\"/><path d=\"M17.41 7.96l-1.37-1.37c-.4-.4-.92-.59-1.43-.59-.52 0-1.04.2-1.43.59L10.3 9.45l-7.72 7.72c-.78.78-.78 2.05 0 2.83L4 21.41c.39.39.9.59 1.41.59.51 0 1.02-.2 1.41-.59l7.78-7.78 2.81-2.81c.8-.78.8-2.07 0-2.86zM5.41 20L4 18.59l7.72-7.72 1.47 1.35L5.41 20z\"/>\n",
              "  </svg>\n",
              "      </button>\n",
              "      \n",
              "  <style>\n",
              "    .colab-df-container {\n",
              "      display:flex;\n",
              "      flex-wrap:wrap;\n",
              "      gap: 12px;\n",
              "    }\n",
              "\n",
              "    .colab-df-convert {\n",
              "      background-color: #E8F0FE;\n",
              "      border: none;\n",
              "      border-radius: 50%;\n",
              "      cursor: pointer;\n",
              "      display: none;\n",
              "      fill: #1967D2;\n",
              "      height: 32px;\n",
              "      padding: 0 0 0 0;\n",
              "      width: 32px;\n",
              "    }\n",
              "\n",
              "    .colab-df-convert:hover {\n",
              "      background-color: #E2EBFA;\n",
              "      box-shadow: 0px 1px 2px rgba(60, 64, 67, 0.3), 0px 1px 3px 1px rgba(60, 64, 67, 0.15);\n",
              "      fill: #174EA6;\n",
              "    }\n",
              "\n",
              "    [theme=dark] .colab-df-convert {\n",
              "      background-color: #3B4455;\n",
              "      fill: #D2E3FC;\n",
              "    }\n",
              "\n",
              "    [theme=dark] .colab-df-convert:hover {\n",
              "      background-color: #434B5C;\n",
              "      box-shadow: 0px 1px 3px 1px rgba(0, 0, 0, 0.15);\n",
              "      filter: drop-shadow(0px 1px 2px rgba(0, 0, 0, 0.3));\n",
              "      fill: #FFFFFF;\n",
              "    }\n",
              "  </style>\n",
              "\n",
              "      <script>\n",
              "        const buttonEl =\n",
              "          document.querySelector('#df-45f2a1da-f68d-45e0-ba2c-0f791dd57a65 button.colab-df-convert');\n",
              "        buttonEl.style.display =\n",
              "          google.colab.kernel.accessAllowed ? 'block' : 'none';\n",
              "\n",
              "        async function convertToInteractive(key) {\n",
              "          const element = document.querySelector('#df-45f2a1da-f68d-45e0-ba2c-0f791dd57a65');\n",
              "          const dataTable =\n",
              "            await google.colab.kernel.invokeFunction('convertToInteractive',\n",
              "                                                     [key], {});\n",
              "          if (!dataTable) return;\n",
              "\n",
              "          const docLinkHtml = 'Like what you see? Visit the ' +\n",
              "            '<a target=\"_blank\" href=https://colab.research.google.com/notebooks/data_table.ipynb>data table notebook</a>'\n",
              "            + ' to learn more about interactive tables.';\n",
              "          element.innerHTML = '';\n",
              "          dataTable['output_type'] = 'display_data';\n",
              "          await google.colab.output.renderOutput(dataTable, element);\n",
              "          const docLink = document.createElement('div');\n",
              "          docLink.innerHTML = docLinkHtml;\n",
              "          element.appendChild(docLink);\n",
              "        }\n",
              "      </script>\n",
              "    </div>\n",
              "  </div>\n",
              "  "
            ]
          },
          "metadata": {},
          "execution_count": 31
        }
      ],
      "source": [
        "df_base.head(3)"
      ]
    },
    {
      "cell_type": "code",
      "source": [
        "df_base.shape"
      ],
      "metadata": {
        "colab": {
          "base_uri": "https://localhost:8080/"
        },
        "id": "Ar8iSgl4Evd5",
        "outputId": "28e1bc28-b91d-4280-8c63-77d6c027ec96"
      },
      "execution_count": null,
      "outputs": [
        {
          "output_type": "execute_result",
          "data": {
            "text/plain": [
              "(567281, 13)"
            ]
          },
          "metadata": {},
          "execution_count": 14
        }
      ]
    },
    {
      "cell_type": "code",
      "execution_count": null,
      "metadata": {
        "id": "SxMiL8dNQly7"
      },
      "outputs": [],
      "source": [
        "df = df_base.copy()"
      ]
    },
    {
      "cell_type": "code",
      "source": [
        "df.dtypes"
      ],
      "metadata": {
        "colab": {
          "base_uri": "https://localhost:8080/"
        },
        "id": "yX7eNTqOXzyv",
        "outputId": "c6234981-9882-4049-a1db-11740fb03c3c"
      },
      "execution_count": null,
      "outputs": [
        {
          "output_type": "execute_result",
          "data": {
            "text/plain": [
              "data                object\n",
              "oe / viagem          int64\n",
              "cod. produto         int64\n",
              "produto             object\n",
              "tipo do produto     object\n",
              "conferente          object\n",
              "auditor             object\n",
              "cx                   int64\n",
              "kg                 float64\n",
              "anomalia            object\n",
              "cx divergentes       int64\n",
              "kg divergente      float64\n",
              "r$ anomalia        float64\n",
              "dtype: object"
            ]
          },
          "metadata": {},
          "execution_count": 16
        }
      ]
    },
    {
      "cell_type": "code",
      "source": [
        "df.nunique()"
      ],
      "metadata": {
        "colab": {
          "base_uri": "https://localhost:8080/"
        },
        "id": "jiH--VZQO_r7",
        "outputId": "fa2d37f3-7f2a-46c8-eb89-c29cdb7fa133"
      },
      "execution_count": null,
      "outputs": [
        {
          "output_type": "execute_result",
          "data": {
            "text/plain": [
              "data                  85\n",
              "oe / viagem        15980\n",
              "cod. produto         932\n",
              "produto              898\n",
              "tipo do produto        3\n",
              "conferente            73\n",
              "auditor               13\n",
              "cx                   919\n",
              "kg                 29686\n",
              "anomalia              12\n",
              "cx divergentes        58\n",
              "kg divergente        170\n",
              "r$ anomalia          351\n",
              "dtype: int64"
            ]
          },
          "metadata": {},
          "execution_count": 17
        }
      ]
    },
    {
      "cell_type": "code",
      "source": [
        "df = df.astype({'data': 'category','produto': 'category','tipo do produto': 'category','conferente': 'category','auditor': 'category','anomalia': 'category'})"
      ],
      "metadata": {
        "id": "qdFTHGK3WwEN"
      },
      "execution_count": null,
      "outputs": []
    },
    {
      "cell_type": "code",
      "source": [
        "df.info()"
      ],
      "metadata": {
        "colab": {
          "base_uri": "https://localhost:8080/"
        },
        "id": "_Yq-k8HeUQMr",
        "outputId": "393b1564-8a23-4b71-9376-951b06e4c436"
      },
      "execution_count": null,
      "outputs": [
        {
          "output_type": "stream",
          "name": "stdout",
          "text": [
            "<class 'pandas.core.frame.DataFrame'>\n",
            "RangeIndex: 567281 entries, 0 to 567280\n",
            "Data columns (total 13 columns):\n",
            " #   Column           Non-Null Count   Dtype   \n",
            "---  ------           --------------   -----   \n",
            " 0   data             567281 non-null  category\n",
            " 1   oe / viagem      567281 non-null  int64   \n",
            " 2   cod. produto     567281 non-null  int64   \n",
            " 3   produto          567281 non-null  category\n",
            " 4   tipo do produto  567281 non-null  category\n",
            " 5   conferente       567281 non-null  category\n",
            " 6   auditor          567281 non-null  category\n",
            " 7   cx               567281 non-null  int64   \n",
            " 8   kg               567281 non-null  float64 \n",
            " 9   anomalia         567281 non-null  category\n",
            " 10  cx divergentes   567281 non-null  int64   \n",
            " 11  kg divergente    567281 non-null  float64 \n",
            " 12  r$ anomalia      567281 non-null  float64 \n",
            "dtypes: category(6), float64(3), int64(4)\n",
            "memory usage: 34.1 MB\n"
          ]
        }
      ]
    },
    {
      "cell_type": "code",
      "source": [
        "df.isnull().sum()"
      ],
      "metadata": {
        "colab": {
          "base_uri": "https://localhost:8080/"
        },
        "id": "pNQBK5ssKFaB",
        "outputId": "00e56b5c-8991-4b25-f6d8-55ec6eacfa33"
      },
      "execution_count": null,
      "outputs": [
        {
          "output_type": "execute_result",
          "data": {
            "text/plain": [
              "data               0\n",
              "oe / viagem        0\n",
              "cod. produto       0\n",
              "produto            0\n",
              "tipo do produto    0\n",
              "conferente         0\n",
              "auditor            0\n",
              "cx                 0\n",
              "kg                 0\n",
              "anomalia           0\n",
              "cx divergentes     0\n",
              "kg divergente      0\n",
              "r$ anomalia        0\n",
              "dtype: int64"
            ]
          },
          "metadata": {},
          "execution_count": 20
        }
      ]
    },
    {
      "cell_type": "code",
      "source": [
        "df_fevereiro = df.iloc[:199439]"
      ],
      "metadata": {
        "id": "rsmWnkdMZGwh"
      },
      "execution_count": null,
      "outputs": []
    },
    {
      "cell_type": "code",
      "source": [
        "df.loc[df['data'] == '2022-02-01']"
      ],
      "metadata": {
        "colab": {
          "base_uri": "https://localhost:8080/",
          "height": 49
        },
        "id": "DYbWGLATH0Cl",
        "outputId": "658c74db-d593-4e10-b0dc-c0a84d1f004d"
      },
      "execution_count": null,
      "outputs": [
        {
          "output_type": "execute_result",
          "data": {
            "text/plain": [
              "Empty DataFrame\n",
              "Columns: [data, oe / viagem, cod. produto, produto, tipo do produto, conferente, auditor, cx, kg, anomalia, cx divergentes, kg divergente, r$ anomalia]\n",
              "Index: []"
            ],
            "text/html": [
              "\n",
              "  <div id=\"df-dfd45b40-c6b2-43bd-bda1-49983b78cdbb\">\n",
              "    <div class=\"colab-df-container\">\n",
              "      <div>\n",
              "<style scoped>\n",
              "    .dataframe tbody tr th:only-of-type {\n",
              "        vertical-align: middle;\n",
              "    }\n",
              "\n",
              "    .dataframe tbody tr th {\n",
              "        vertical-align: top;\n",
              "    }\n",
              "\n",
              "    .dataframe thead th {\n",
              "        text-align: right;\n",
              "    }\n",
              "</style>\n",
              "<table border=\"1\" class=\"dataframe\">\n",
              "  <thead>\n",
              "    <tr style=\"text-align: right;\">\n",
              "      <th></th>\n",
              "      <th>data</th>\n",
              "      <th>oe / viagem</th>\n",
              "      <th>cod. produto</th>\n",
              "      <th>produto</th>\n",
              "      <th>tipo do produto</th>\n",
              "      <th>conferente</th>\n",
              "      <th>auditor</th>\n",
              "      <th>cx</th>\n",
              "      <th>kg</th>\n",
              "      <th>anomalia</th>\n",
              "      <th>cx divergentes</th>\n",
              "      <th>kg divergente</th>\n",
              "      <th>r$ anomalia</th>\n",
              "    </tr>\n",
              "  </thead>\n",
              "  <tbody>\n",
              "  </tbody>\n",
              "</table>\n",
              "</div>\n",
              "      <button class=\"colab-df-convert\" onclick=\"convertToInteractive('df-dfd45b40-c6b2-43bd-bda1-49983b78cdbb')\"\n",
              "              title=\"Convert this dataframe to an interactive table.\"\n",
              "              style=\"display:none;\">\n",
              "        \n",
              "  <svg xmlns=\"http://www.w3.org/2000/svg\" height=\"24px\"viewBox=\"0 0 24 24\"\n",
              "       width=\"24px\">\n",
              "    <path d=\"M0 0h24v24H0V0z\" fill=\"none\"/>\n",
              "    <path d=\"M18.56 5.44l.94 2.06.94-2.06 2.06-.94-2.06-.94-.94-2.06-.94 2.06-2.06.94zm-11 1L8.5 8.5l.94-2.06 2.06-.94-2.06-.94L8.5 2.5l-.94 2.06-2.06.94zm10 10l.94 2.06.94-2.06 2.06-.94-2.06-.94-.94-2.06-.94 2.06-2.06.94z\"/><path d=\"M17.41 7.96l-1.37-1.37c-.4-.4-.92-.59-1.43-.59-.52 0-1.04.2-1.43.59L10.3 9.45l-7.72 7.72c-.78.78-.78 2.05 0 2.83L4 21.41c.39.39.9.59 1.41.59.51 0 1.02-.2 1.41-.59l7.78-7.78 2.81-2.81c.8-.78.8-2.07 0-2.86zM5.41 20L4 18.59l7.72-7.72 1.47 1.35L5.41 20z\"/>\n",
              "  </svg>\n",
              "      </button>\n",
              "      \n",
              "  <style>\n",
              "    .colab-df-container {\n",
              "      display:flex;\n",
              "      flex-wrap:wrap;\n",
              "      gap: 12px;\n",
              "    }\n",
              "\n",
              "    .colab-df-convert {\n",
              "      background-color: #E8F0FE;\n",
              "      border: none;\n",
              "      border-radius: 50%;\n",
              "      cursor: pointer;\n",
              "      display: none;\n",
              "      fill: #1967D2;\n",
              "      height: 32px;\n",
              "      padding: 0 0 0 0;\n",
              "      width: 32px;\n",
              "    }\n",
              "\n",
              "    .colab-df-convert:hover {\n",
              "      background-color: #E2EBFA;\n",
              "      box-shadow: 0px 1px 2px rgba(60, 64, 67, 0.3), 0px 1px 3px 1px rgba(60, 64, 67, 0.15);\n",
              "      fill: #174EA6;\n",
              "    }\n",
              "\n",
              "    [theme=dark] .colab-df-convert {\n",
              "      background-color: #3B4455;\n",
              "      fill: #D2E3FC;\n",
              "    }\n",
              "\n",
              "    [theme=dark] .colab-df-convert:hover {\n",
              "      background-color: #434B5C;\n",
              "      box-shadow: 0px 1px 3px 1px rgba(0, 0, 0, 0.15);\n",
              "      filter: drop-shadow(0px 1px 2px rgba(0, 0, 0, 0.3));\n",
              "      fill: #FFFFFF;\n",
              "    }\n",
              "  </style>\n",
              "\n",
              "      <script>\n",
              "        const buttonEl =\n",
              "          document.querySelector('#df-dfd45b40-c6b2-43bd-bda1-49983b78cdbb button.colab-df-convert');\n",
              "        buttonEl.style.display =\n",
              "          google.colab.kernel.accessAllowed ? 'block' : 'none';\n",
              "\n",
              "        async function convertToInteractive(key) {\n",
              "          const element = document.querySelector('#df-dfd45b40-c6b2-43bd-bda1-49983b78cdbb');\n",
              "          const dataTable =\n",
              "            await google.colab.kernel.invokeFunction('convertToInteractive',\n",
              "                                                     [key], {});\n",
              "          if (!dataTable) return;\n",
              "\n",
              "          const docLinkHtml = 'Like what you see? Visit the ' +\n",
              "            '<a target=\"_blank\" href=https://colab.research.google.com/notebooks/data_table.ipynb>data table notebook</a>'\n",
              "            + ' to learn more about interactive tables.';\n",
              "          element.innerHTML = '';\n",
              "          dataTable['output_type'] = 'display_data';\n",
              "          await google.colab.output.renderOutput(dataTable, element);\n",
              "          const docLink = document.createElement('div');\n",
              "          docLink.innerHTML = docLinkHtml;\n",
              "          element.appendChild(docLink);\n",
              "        }\n",
              "      </script>\n",
              "    </div>\n",
              "  </div>\n",
              "  "
            ]
          },
          "metadata": {},
          "execution_count": 23
        }
      ]
    }
  ],
  "metadata": {
    "colab": {
      "collapsed_sections": [],
      "provenance": [],
      "include_colab_link": true
    },
    "kernelspec": {
      "display_name": "Python 3 (ipykernel)",
      "language": "python",
      "name": "python3"
    },
    "language_info": {
      "codemirror_mode": {
        "name": "ipython",
        "version": 3
      },
      "file_extension": ".py",
      "mimetype": "text/x-python",
      "name": "python",
      "nbconvert_exporter": "python",
      "pygments_lexer": "ipython3",
      "version": "3.9.7"
    },
    "accelerator": "GPU",
    "gpuClass": "standard"
  },
  "nbformat": 4,
  "nbformat_minor": 0
}